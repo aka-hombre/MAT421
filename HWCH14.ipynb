{
  "nbformat": 4,
  "nbformat_minor": 0,
  "metadata": {
    "colab": {
      "provenance": [],
      "authorship_tag": "ABX9TyPUcBfQmvoVW4K1SyF+WsOu",
      "include_colab_link": true
    },
    "kernelspec": {
      "name": "python3",
      "display_name": "Python 3"
    },
    "language_info": {
      "name": "python"
    }
  },
  "cells": [
    {
      "cell_type": "markdown",
      "metadata": {
        "id": "view-in-github",
        "colab_type": "text"
      },
      "source": [
        "<a href=\"https://colab.research.google.com/github/aka-hombre/MAT421/blob/main/HWCH14.ipynb\" target=\"_parent\"><img src=\"https://colab.research.google.com/assets/colab-badge.svg\" alt=\"Open In Colab\"/></a>"
      ]
    },
    {
      "cell_type": "markdown",
      "source": [
        "#**HW Module D: Section 1.1, 1.2, 1.3 and 1.4**#\n",
        "\n",
        "#Sets:#\n",
        "\n",
        "The ideas of mathmatetical sets, can be connected to objects in python like:\n",
        "\n",
        "\n",
        "\n",
        "*   $\\mathbb{N}= \\{1, 2, 3, \\dots\\}\\rightarrow$ **int()**\n",
        "*   $\\mathbb{W}= \\{0\\}\\cup\\mathbb{N}\\rightarrow$ **int()**\n",
        "*   $\\mathbb{Z}= \\{\\dots, -2, -1, 0, 1, 2, \\dots\\}\\rightarrow$ **int()**\n",
        "*   $\\mathbb{Q}= \\{\\frac{a}{b} | a\\in \\mathbb{Z} \\wedge b\\in\\mathbb{N}, (a,b) =1\\}\\rightarrow$ **float()**\n",
        "*   $\\mathbb{I} = \\{a\\notin \\mathbb{Q}\\} \\rightarrow$ [e,$\\pi$, ... every non-ration]\n",
        "*   $\\mathbb{R}= \\mathbb{I}\\cup\\mathbb{Q}\\rightarrow$ **float()**\n",
        "*   $\\mathbb{C}= \\{a+bi|a,b \\in \\mathbb{R}, i^2 = -1\\}\\rightarrow$ **complex()**\n",
        "\n",
        "\n",
        "Lists and arrays are similar to vectors in python they can be described as"
      ],
      "metadata": {
        "id": "VUCpPRT0xICB"
      }
    },
    {
      "cell_type": "code",
      "source": [
        "import numpy as np\n",
        "from numpy.linalg import norm\n",
        "vector_row = np.array([[1, -5, 3, 2, 4]])\n",
        "vector_column = np.array([[1],\n",
        "                          [2],\n",
        "                          [3],\n",
        "                          [4]])\n",
        "\n",
        "\n",
        "print(\"vector1 (rows, collumns):   \"+str(vector_row.shape)+\"\\n\"+str(vector_row))\n",
        "print(\"vector2 (rows, collumns):   \"+str(vector_column.shape))\n",
        "print(vector_column)\n",
        "\n",
        "new_vector = vector_row.T\n",
        "print(\"vector 1, transposed:\")\n",
        "print(new_vector)\n",
        "norm_1 = norm(new_vector, 1)\n",
        "norm_2 = norm(new_vector, 2)\n",
        "norm_inf = norm(new_vector, np.inf)\n",
        "print('Manhantan Distance is: %.1f'%norm_1)\n",
        "print('Norm/Euclidean Distance: %.1f'%norm_2)\n",
        "print('L_inf is: %.1f'%norm_inf)"
      ],
      "metadata": {
        "colab": {
          "base_uri": "https://localhost:8080/"
        },
        "id": "9R_axZMmI6lH",
        "outputId": "59f262c7-f716-4d9b-d1f5-6c5461315f4c"
      },
      "execution_count": 19,
      "outputs": [
        {
          "output_type": "stream",
          "name": "stdout",
          "text": [
            "vector1 (rows, collumns):   (1, 5)\n",
            "[[ 1 -5  3  2  4]]\n",
            "vector2 (rows, collumns):   (4, 1)\n",
            "[[1]\n",
            " [2]\n",
            " [3]\n",
            " [4]]\n",
            "vector 1, transposed:\n",
            "[[ 1]\n",
            " [-5]\n",
            " [ 3]\n",
            " [ 2]\n",
            " [ 4]]\n",
            "Manhantan Distance is: 15.0\n",
            "Norm/Euclidean Distance: 7.4\n",
            "L_inf is: 5.0\n"
          ]
        }
      ]
    },
    {
      "cell_type": "markdown",
      "source": [
        "Vector operations can be performed with numpy, and matrices can be constructed.\n"
      ],
      "metadata": {
        "id": "xnakIV03ezKv"
      }
    },
    {
      "cell_type": "code",
      "source": [
        "import numpy as np\n",
        "\n",
        "\n",
        "a = np.array([6,3,2])\n",
        "print('Vectors')\n",
        "print('a =',a)\n",
        "b = np.array([3.5,2,7])\n",
        "print('b =',b)\n",
        "#matrix can also be constructed this way\n",
        "mA= np.array([[1,2,3],[4,5,6],[-7,8.5,9]])\n",
        "print('\\nMatrix')\n",
        "print('mA =',mA)\n",
        "print(\"\\n\")\n",
        "\n",
        "print('a*b =',a*b)\n",
        "print('a/b =',a/b)\n",
        "print('a+b =',a+b)\n",
        "print('a-b =',a-b)\n",
        "print('ln(a) =',np.log(a))"
      ],
      "metadata": {
        "colab": {
          "base_uri": "https://localhost:8080/"
        },
        "id": "87j4lpeSe6g_",
        "outputId": "6822698c-8954-4c5d-cfb1-06d0a548ebf7"
      },
      "execution_count": 30,
      "outputs": [
        {
          "output_type": "stream",
          "name": "stdout",
          "text": [
            "Vectors\n",
            "a = [6 3 2]\n",
            "b = [3.5 2.  7. ]\n",
            "\n",
            "Matrix\n",
            "mA = [[ 1.   2.   3. ]\n",
            " [ 4.   5.   6. ]\n",
            " [-7.   8.5  9. ]]\n",
            "\n",
            "\n",
            "a*b = [21.  6. 14.]\n",
            "a/b = [1.71428571 1.5        0.28571429]\n",
            "a+b = [9.5 5.  9. ]\n",
            "a-b = [ 2.5  1.  -5. ]\n",
            "ln(a) = [1.79175947 1.09861229 0.69314718]\n"
          ]
        }
      ]
    },
    {
      "cell_type": "markdown",
      "source": [
        "#Applications of Linear Algebra#\n",
        "\n",
        "One of the main applications of linear algebra is finding solutions to systems of linear equations and regression."
      ],
      "metadata": {
        "id": "PY1SyuKcgfWB"
      }
    },
    {
      "cell_type": "code",
      "source": [
        "import numpy as np\n",
        "\n",
        "a = [[8, 3, -3], [-2, -8, 5], [3, 5, 10]]\n",
        "\n",
        "def gseid(cmatrix, ys, epsilon=0.01, maxIterations=600):\n",
        "    # Find diagonal coefficients\n",
        "    diag = np.diag(np.abs(cmatrix))\n",
        "\n",
        "    # Find row sum without diagonal\n",
        "    off_diag = np.sum(np.abs(cmatrix), axis=1) - diag\n",
        "\n",
        "    if np.all(diag > off_diag):\n",
        "        print('matrix is diagonally dominant')\n",
        "    else:\n",
        "        print('NOT diagonally dominant')\n",
        "\n",
        "    x = np.zeros(cmatrix.shape[1])\n",
        "    x_old = np.zeros(cmatrix.shape[1])\n",
        "    converged = False\n",
        "\n",
        "    print('Iteration results')\n",
        "    print(' k,    x')\n",
        "\n",
        "    for k in range(1, maxIterations):\n",
        "        for i in range(len(x)):\n",
        "            corr = 0\n",
        "            for j in range(len(x)):\n",
        "                if i != j:\n",
        "                    corr += cmatrix[i, j] * x[j]\n",
        "            x[i] = (ys[i] - corr) / cmatrix[i, i]\n",
        "\n",
        "        # Check for convergence\n",
        "        dx = np.sqrt(np.dot(x - x_old, x - x_old))\n",
        "        print(\"%d \" % (k), x)\n",
        "\n",
        "        if dx < epsilon:\n",
        "            converged = True\n",
        "            print('Converged!')\n",
        "            break\n",
        "\n",
        "        # Assign a copy of the latest x value to the old value\n",
        "        x_old = np.copy(x)\n",
        "\n",
        "    if not converged:\n",
        "        print(\"not converged, iterate some more homie\")\n",
        "\n",
        "    return x\n",
        "\n",
        "coeffMatrix = np.array(a, dtype=float)\n",
        "ys = np.array([14, 5, -8], dtype=float)\n",
        "xGS = gseid(coeffMatrix, ys, epsilon=0.0001)\n"
      ],
      "metadata": {
        "colab": {
          "base_uri": "https://localhost:8080/"
        },
        "id": "p4ra3jP-mEIu",
        "outputId": "d6ac8236-5fd9-4e08-d993-525c346d0bf4"
      },
      "execution_count": 41,
      "outputs": [
        {
          "output_type": "stream",
          "name": "stdout",
          "text": [
            "matrix is diagonally dominant\n",
            "Iteration results\n",
            " k,    x\n",
            "1  [ 1.75    -1.0625  -0.79375]\n",
            "2  [ 1.85078125 -1.58378906 -0.56333984]\n",
            "3  [ 2.13266846 -1.51025452 -0.68467328]\n",
            "4  [ 2.05959296 -1.56781904 -0.63396837]\n",
            "5  [ 2.100194   -1.54627873 -0.65691883]\n",
            "6  [ 2.08350996 -1.55645176 -0.64682711]\n",
            "7  [ 2.09110925 -1.55204425 -0.65131065]\n",
            "8  [ 2.0877751  -1.55401293 -0.64932607]\n",
            "9  [ 2.08925757 -1.55314318 -0.65020568]\n",
            "10  [ 2.08860156 -1.55352894 -0.649816  ]\n",
            "11  [ 2.08889235 -1.55335809 -0.64998866]\n",
            "12  [ 2.08876353 -1.5534338  -0.64991216]\n",
            "13  [ 2.08882061 -1.55340025 -0.64994606]\n",
            "Converged!\n"
          ]
        }
      ]
    },
    {
      "cell_type": "markdown",
      "source": [
        "Numpy has a built in way to generate solutions too!"
      ],
      "metadata": {
        "id": "l3yjIz5Yz66h"
      }
    },
    {
      "cell_type": "code",
      "source": [
        "\n",
        "x = np.linalg.solve(coeffMatrix, ys)\n",
        "print('Python solution',x)\n",
        "print('Diff=', np.mean((x-xGS)**2 )**.5)"
      ],
      "metadata": {
        "colab": {
          "base_uri": "https://localhost:8080/"
        },
        "id": "ojihsq7L0GoO",
        "outputId": "a47fb9f6-0c30-4a0f-a059-2d0acf5383e7"
      },
      "execution_count": 42,
      "outputs": [
        {
          "output_type": "stream",
          "name": "stdout",
          "text": [
            "Python solution [ 2.08880309 -1.55341055 -0.64993565]\n",
            "Diff= 1.3184439252485712e-05\n"
          ]
        }
      ]
    },
    {
      "cell_type": "markdown",
      "source": [
        "##Linear Regression##\n",
        "\n",
        "Where as interpolation requires us to find a function to pass through all our data points, regression requires us to find a function that is the closest to all the points. Numpy is good for this:"
      ],
      "metadata": {
        "id": "giEU-Eie06TI"
      }
    },
    {
      "cell_type": "code",
      "source": [
        "import numpy as np\n",
        "import matplotlib.pyplot as plt\n",
        "\n",
        "xx = np.linspace(0, 10)\n",
        "y = np.random.randint(0, 5) + (np.random.rand(len(xx)) * 25)\n",
        "\n",
        "# We are looking at linear data, so we need 2 columns to define the parameters\n",
        "A = np.vstack([xx, np.ones(len(xx))]).T\n",
        "\n",
        "# Perform a standard linear algebra inverse\n",
        "alpha = np.dot(np.dot(np.linalg.inv(np.dot(A.T, A)), A.T), y)\n",
        "\n",
        "# Plot the original data points and the fitted linear function\n",
        "plt.figure(figsize=(10, 8))\n",
        "plt.plot(xx, y, 'b.', label='Original Data')\n",
        "plt.plot(xx, alpha[0] * xx + alpha[1], 'r', label='Fitted Linear Function')\n",
        "plt.legend()\n",
        "plt.show()\n"
      ],
      "metadata": {
        "colab": {
          "base_uri": "https://localhost:8080/",
          "height": 676
        },
        "id": "Sqflr4uD3zET",
        "outputId": "0f454fd4-649b-4d70-d2df-cda26e8802df"
      },
      "execution_count": 60,
      "outputs": [
        {
          "output_type": "display_data",
          "data": {
            "text/plain": [
              "<Figure size 1000x800 with 1 Axes>"
            ],
            "image/png": "[encoded data removed]"
          },
          "metadata": {}
        }
      ]
    }
  ]
}