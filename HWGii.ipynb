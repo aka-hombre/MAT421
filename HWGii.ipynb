{
  "nbformat": 4,
  "nbformat_minor": 0,
  "metadata": {
    "colab": {
      "provenance": [],
      "authorship_tag": "ABX9TyOrv1rk5dQlGoOT+oJQA46P",
      "include_colab_link": true
    },
    "kernelspec": {
      "name": "python3",
      "display_name": "Python 3"
    },
    "language_info": {
      "name": "python"
    }
  },
  "cells": [
    {
      "cell_type": "markdown",
      "metadata": {
        "id": "view-in-github",
        "colab_type": "text"
      },
      "source": [
        "<a href=\"https://colab.research.google.com/github/aka-hombre/MAT421/blob/main/HWGii.ipynb\" target=\"_parent\"><img src=\"https://colab.research.google.com/assets/colab-badge.svg\" alt=\"Open In Colab\"/></a>"
      ]
    },
    {
      "cell_type": "markdown",
      "source": [
        "#**HW Module G: Section 21.4, 21.5**#\n",
        "\n",
        "\n",
        "##Simpson's Rule##\n",
        "\n",
        "Using two consecutive subintervals $[x_{i-1}, x_i]$ and $[x_i, x_{i+1}]$, Simpson's rule approximates the area under a function by fitting a quadratic polynomial evaluated at the points and the bounds of the interval.\n",
        "\n",
        "Let $h = x_i - x_{i-1} = x_{i+1} - x_i$\n",
        "\\begin{align*}\n",
        "P_i(x) = \\frac{f(x_i)}{2h^2}(x -x_i)(x - x_{i+1}) - \\frac{f(x_i)}{h^2} (x-x_{i+1})(x-x_{i-1})+\\frac{f(x_{i+1})}{2h^2}(x-x_{i-1})(x-x_i)\n",
        "\\end{align*}\n",
        "\n",
        "Now, we have that\n",
        "\\begin{align*}\n",
        "\\int_{x_{i-1}}^{x_{i+1}} P_i(x) = \\frac{h}{3}[f(x_{i-1})+4f(x_i)+f(x_{i+1})]\\\\\n",
        "\\end{align*}\n",
        "\n",
        "\n",
        "Now, to approximate the integeral of $f(x)$ over $[a.b]$ we sum the integrals of $P_i(x)$\n",
        "\\begin{align*}\n",
        "\\int_a^b f(x) \\approx \\frac{h}{3} \\big[f(x_0) + 4\\big(\\sum_{i=1,i odd}^{n-1}f(x_i)\\big)+ 2\\big(\\sum_{i=2,i even}^{n-1} f(x_i)\\big) + f(x_n) \\big]\n",
        "\\end{align*}\n",
        "\n",
        "\n",
        "Time to approximate using python! We will approximate the integral of $f(x) = \\ln(x)$ over the interval $[1,5]$ with 15 evenly space points."
      ],
      "metadata": {
        "id": "swlRbPXosjqP"
      }
    },
    {
      "cell_type": "code",
      "source": [
        "import numpy as np\n",
        "\n",
        "a = 1\n",
        "b = 5\n",
        "n = 15\n",
        "h = (b - a) / (n - 1)\n",
        "x = np.linspace(1, 5, n)\n",
        "f = np.log(x)\n",
        "\n",
        "I_simp = (h/3) * (f[0] + 2*sum(f[:n-2:2]) \\\n",
        "            + 4*sum(f[1:n-1:2]) + f[n-1])\n",
        "err_simp = (5*np.log(5) - 4) - I_simp\n",
        "\n",
        "print(\"Simpson's rule approximation: \"+str(I_simp))\n",
        "print(\"Error: \"+str(err_simp))"
      ],
      "metadata": {
        "colab": {
          "base_uri": "https://localhost:8080/"
        },
        "id": "xHNdFyO6Pe0p",
        "outputId": "28d0362c-c2d8-488a-9c92-cdba34cb350e"
      },
      "execution_count": 12,
      "outputs": [
        {
          "output_type": "stream",
          "name": "stdout",
          "text": [
            "Simpson's rule approximation: 4.047123158170196\n",
            "Error: 6.640400030555327e-05\n"
          ]
        }
      ]
    },
    {
      "cell_type": "markdown",
      "source": [
        "##21.5 - Computing Integrals in Python##\n",
        "\n",
        "The *scipy.integrate* sub-package is the straight forward way to integrate using python. We will use it and test the error as before"
      ],
      "metadata": {
        "id": "6F8baUDL6xAe"
      }
    },
    {
      "cell_type": "code",
      "source": [
        "import numpy as np\n",
        "from scipy.integrate import quad\n",
        "\n",
        "I_quad = quad(np.log, 1, 5)\n",
        "I_an = 5*np.log(5) - 4\n",
        "\n",
        "err = I_quad[0] - I_an\n",
        "print(\"Quad integration function: \"+str(I_quad[0]))\n",
        "print(\"Error: \"+ str(err))"
      ],
      "metadata": {
        "colab": {
          "base_uri": "https://localhost:8080/"
        },
        "id": "ul6AVkzKSg7n",
        "outputId": "2530baa0-8ef2-4cab-d15e-0629d2725f93"
      },
      "execution_count": 15,
      "outputs": [
        {
          "output_type": "stream",
          "name": "stdout",
          "text": [
            "Quad integration function: 4.047189562170502\n",
            "Error: 0.0\n"
          ]
        }
      ]
    }
  ]
}