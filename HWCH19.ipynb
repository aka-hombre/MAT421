{
  "nbformat": 4,
  "nbformat_minor": 0,
  "metadata": {
    "colab": {
      "provenance": [],
      "authorship_tag": "ABX9TyPvRV9jYA+VTr47ZhS50tro",
      "include_colab_link": true
    },
    "kernelspec": {
      "name": "python3",
      "display_name": "Python 3"
    },
    "language_info": {
      "name": "python"
    }
  },
  "cells": [
    {
      "cell_type": "markdown",
      "metadata": {
        "id": "view-in-github",
        "colab_type": "text"
      },
      "source": [
        "<a href=\"https://colab.research.google.com/github/aka-hombre/MAT421/blob/main/HWCH19.ipynb\" target=\"_parent\"><img src=\"https://colab.research.google.com/assets/colab-badge.svg\" alt=\"Open In Colab\"/></a>"
      ]
    },
    {
      "cell_type": "markdown",
      "source": [
        "#**HW Module C: Section 19.1, 19,2, 19.3, 19.4 19.5**#\n",
        "\n",
        "## Root finding:##\n",
        "\n",
        "We are well aware of what finding a root of a function, such that for a function $f(x)$ the roots are all $x_r$ that satisfy $f(x_r)=0$. For elementry functions this seems trivial; however, for more complex problems modeled by functions, finding the roots analytically may be more difficult. This is where approximation comes into play.\n",
        "\n",
        "Let's try to find the roots of a function where the analytic solution to find roots is not so clear: $f(x)=sin(x)-x$, near $\\pi$"
      ],
      "metadata": {
        "id": "rfWBEx8IpZNh"
      }
    },
    {
      "cell_type": "code",
      "source": [
        "import numpy as np\n",
        "from scipy import optimize\n",
        "\n",
        "f = lambda x: np.sin(x) - x\n",
        "r = optimize.fsolve(f, np.pi)\n",
        "print(\"r =\", r)\n",
        "\n",
        "# Verify the solution is a root\n",
        "result = f(r)\n",
        "print(\"result=\", result)"
      ],
      "metadata": {
        "colab": {
          "base_uri": "https://localhost:8080/"
        },
        "id": "yvcKqKOWs9Q8",
        "outputId": "9f892b21-d1be-4dbc-e278-4afb56474413"
      },
      "execution_count": 1,
      "outputs": [
        {
          "output_type": "stream",
          "name": "stdout",
          "text": [
            "r = [1.94614787e-08]\n",
            "result= [0.]\n"
          ]
        }
      ]
    },
    {
      "cell_type": "markdown",
      "source": [
        "If we notice there only exists a root at zero for f(x).\n",
        "\n",
        "Now let's see how this hold up to another function $f(x)=sin(x)-2$"
      ],
      "metadata": {
        "id": "rFt2N0FhuP5e"
      }
    },
    {
      "cell_type": "code",
      "source": [
        "import numpy as np\n",
        "from scipy import optimize\n",
        "import matplotlib.pyplot as plt\n",
        "\n",
        "f = lambda x: np.sin(x) - x\n",
        "r = optimize.fsolve(f, np.pi)\n",
        "print(\"r=\", r)\n",
        "\n",
        "xx=np.linspace(0,5,200)\n",
        "plt.plot(xx,f(xx))\n",
        "result = f(r)\n",
        "print(\"f(root_value)=\", result)"
      ],
      "metadata": {
        "colab": {
          "base_uri": "https://localhost:8080/",
          "height": 465
        },
        "id": "9ybRN0fLu9gG",
        "outputId": "57f7f8a0-4e25-4a1d-b287-e1833d27d2f3"
      },
      "execution_count": 2,
      "outputs": [
        {
          "output_type": "stream",
          "name": "stdout",
          "text": [
            "r= [1.94614787e-08]\n",
            "result= [0.]\n"
          ]
        },
        {
          "output_type": "display_data",
          "data": {
            "text/plain": [
              "<Figure size 640x480 with 1 Axes>"
            ],
            "image/png": "[encoded data removed]"
          },
          "metadata": {}
        }
      ]
    },
    {
      "cell_type": "markdown",
      "source": [
        "Notice how this is not too precise."
      ],
      "metadata": {
        "id": "u3GfQKoTvY6O"
      }
    },
    {
      "cell_type": "markdown",
      "source": [
        "##Tolerance & Bisection:##\n",
        "\n",
        "When we have to approximate solutions (roots), error is a measure of how far off we are from an expected or computed value. **Tolerance** is the level of acceptable error.\n",
        "\n",
        "Convergance happens when our computed solution has an error smaller than the tolerance. The bisection method uses itteration and the Intermediate Value Theorem to find roots.\n"
      ],
      "metadata": {
        "id": "yHkWI2gKvvcG"
      }
    },
    {
      "cell_type": "code",
      "source": [
        "import numpy as np\n",
        "import matplotlib.pyplot as plt\n",
        "\n",
        "def my_bisection(f, a, b, tol):\n",
        "    # approximates a root, R, of f bounded\n",
        "    # by a and b to within tolerance\n",
        "    # | f(m) | < tol with m the midpoint\n",
        "    # between a and b Recursive implementation\n",
        "\n",
        "    # check if a and b bound a root\n",
        "    if np.sign(f(a)) == np.sign(f(b)):\n",
        "        raise Exception(\n",
        "         \"The scalars a and b do not bound a root\")\n",
        "\n",
        "    # get midpoint\n",
        "    m = (a + b)/2\n",
        "\n",
        "    if np.abs(f(m)) < tol:\n",
        "        # stopping condition, report m as root\n",
        "        return m\n",
        "    elif np.sign(f(a)) == np.sign(f(m)):\n",
        "        # case where m is an improvement on a.\n",
        "        # Make recursive call with a = m\n",
        "        return my_bisection(f, m, b, tol)\n",
        "    elif np.sign(f(b)) == np.sign(f(m)):\n",
        "        # case where m is an improvement on b.\n",
        "        # Make recursive call with b = m\n",
        "        return my_bisection(f, a, m, tol)\n",
        "\n",
        "\n",
        "f = lambda x: x**2 - 5\n",
        "\n",
        "r1 = my_bisection(f, 0, 5, 0.0001)\n",
        "print(\"1st root (tol=0.001) =\", r1)\n",
        "r01 = my_bisection(f, -5, 0, 0.01)\n",
        "print(\"2nd root (tol=0.01) =\", r01)\n",
        "\n",
        "print(\"f(r1) =\", f(r1))\n",
        "print(\"f(r2) =\", f(r01))\n",
        "\n",
        "xx=np.linspace(-5,5,200)\n",
        "plt.title(\"x^2 - 5\")\n",
        "plt.plot(xx,f(xx))\n",
        "plt.plot(xx, [0]*xx)\n",
        "plt.axvline(x=np.sqrt(5), color ='r', label = \"True root\")\n",
        "plt.axvline(x=r1, color = 'b', linestyle='dashed', label = \"approximate root value\")\n",
        "plt.legend(loc='upper center')\n"
      ],
      "metadata": {
        "colab": {
          "base_uri": "https://localhost:8080/",
          "height": 539
        },
        "id": "NVn4-k5gVl5d",
        "outputId": "add55fdf-99f4-4d8a-cfe9-6759acd75181"
      },
      "execution_count": 18,
      "outputs": [
        {
          "output_type": "stream",
          "name": "stdout",
          "text": [
            "1st root (tol=0.001) = 2.2360610961914062\n",
            "2nd root (tol=0.01) = -2.236328125\n",
            "f(r1) = -3.077409928664565e-05\n",
            "f(r2) = 0.001163482666015625\n"
          ]
        },
        {
          "output_type": "execute_result",
          "data": {
            "text/plain": [
              "<matplotlib.legend.Legend at 0x7948377335e0>"
            ]
          },
          "metadata": {},
          "execution_count": 18
        },
        {
          "output_type": "display_data",
          "data": {
            "text/plain": [
              "<Figure size 640x480 with 1 Axes>"
            ],
            "image/png": "[encoded data removed]"
          },
          "metadata": {}
        }
      ]
    },
    {
      "cell_type": "markdown",
      "source": [
        "##Newton-Raphson Method:##\n",
        "\n",
        "This method of approximating roots involves beining with a guesss $x_o$ which approximates $x_r$, and itterates, in Newton steps, until we find an approximation that has an error less than the tolerance.\n"
      ],
      "metadata": {
        "id": "63GavW4RvWjE"
      }
    },
    {
      "cell_type": "code",
      "source": [
        "import numpy as np\n",
        "\n",
        "f = lambda x: x**2 - 5\n",
        "f_prime = lambda x: 2*x\n",
        "newton_raphson = 1.4 - (f(1.4))/(f_prime(1.4))\n",
        "\n",
        "print(\"newton_raphson =\", newton_raphson)\n",
        "print(\"sqrt(5) =\", np.sqrt(5))"
      ],
      "metadata": {
        "colab": {
          "base_uri": "https://localhost:8080/"
        },
        "id": "yCNymok44f4Z",
        "outputId": "7bae6f9e-433e-402c-d4fd-cdee6603f61a"
      },
      "execution_count": 21,
      "outputs": [
        {
          "output_type": "stream",
          "name": "stdout",
          "text": [
            "newton_raphson = 2.4857142857142858\n",
            "sqrt(5) = 2.23606797749979\n"
          ]
        }
      ]
    },
    {
      "cell_type": "markdown",
      "source": [
        "##Using Python:##\n",
        "\n",
        "We will use f-solve to find the root of $f(x)=x^2 -5$"
      ],
      "metadata": {
        "id": "E89FpU8X55G4"
      }
    },
    {
      "cell_type": "code",
      "source": [
        "from scipy.optimize import fsolve\n",
        "\n",
        "f = lambda x: x**2 -5\n",
        "\n",
        "fsolve(f, [0, 5])"
      ],
      "metadata": {
        "colab": {
          "base_uri": "https://localhost:8080/"
        },
        "id": "48HL8OYt7NVv",
        "outputId": "103a7d24-208c-44fe-c160-fbee5376633d"
      },
      "execution_count": 26,
      "outputs": [
        {
          "output_type": "execute_result",
          "data": {
            "text/plain": [
              "array([-2.23606798,  2.23606798])"
            ]
          },
          "metadata": {},
          "execution_count": 26
        }
      ]
    }
  ]
}