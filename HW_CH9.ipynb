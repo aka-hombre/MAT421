{
  "nbformat": 4,
  "nbformat_minor": 0,
  "metadata": {
    "colab": {
      "provenance": [],
      "authorship_tag": "ABX9TyNNOpYxJJB7jgs5mFopUOlG",
      "include_colab_link": true
    },
    "kernelspec": {
      "name": "python3",
      "display_name": "Python 3"
    },
    "language_info": {
      "name": "python"
    }
  },
  "cells": [
    {
      "cell_type": "markdown",
      "metadata": {
        "id": "view-in-github",
        "colab_type": "text"
      },
      "source": [
        "<a href=\"https://colab.research.google.com/github/aka-hombre/MAT421/blob/main/HW_CH9.ipynb\" target=\"_parent\"><img src=\"https://colab.research.google.com/assets/colab-badge.svg\" alt=\"Open In Colab\"/></a>"
      ]
    },
    {
      "cell_type": "code",
      "execution_count": 2,
      "metadata": {
        "id": "Fpg4hKSORFWV"
      },
      "outputs": [],
      "source": [
        "import numpy"
      ]
    },
    {
      "cell_type": "markdown",
      "source": [
        "#**CHAPTER 9**\n",
        "##**Representing Base n and binary**\n",
        "\n",
        "The numbers we are familiar with are decimal, base-10.\n",
        "\n",
        "This means our numbers can be represented as a sum of powers, with a base of ten.\n",
        "\n",
        "Example: $111 = 1*10^{2} + 1*10^{1} + 1*10^{0}$\n",
        "\n",
        "Now we can do the same for a diffrent base, take base 7 for example. To convert we can divide our decimal number the remainder will be the digits of our number. We will use some modular arithimitic to find the coefficients."
      ],
      "metadata": {
        "id": "lTkO8oHaRoLU"
      }
    },
    {
      "cell_type": "code",
      "source": [
        "def to_base_n(number, base): #function to find coeff. of a dec number to base n\n",
        "  coeff = []\n",
        "  while(number/base != 0):\n",
        "    coeff.append(number%base) #finding the remainders of the number\n",
        "    number = number//base #performing floor division\n",
        "  return coeff\n",
        "\n",
        "\n",
        "print(to_base_n(111,7))"
      ],
      "metadata": {
        "colab": {
          "base_uri": "https://localhost:8080/"
        },
        "id": "99PzYD0nUprl",
        "outputId": "5f1a5178-0af1-45b3-872c-af9446fc5b87"
      },
      "execution_count": 18,
      "outputs": [
        {
          "output_type": "stream",
          "name": "stdout",
          "text": [
            "[6, 1, 2]\n"
          ]
        }
      ]
    },
    {
      "cell_type": "markdown",
      "source": [
        "$111 = 2*7^{2} +1*7^{1}+6*7^{0}$\n",
        "\n",
        "So 111 in base 7 is 216!\n",
        "\n",
        "Binary is the same thing, but we work in base 2. Menaing, our remainders from division are always going to be 0 or 1.\n",
        "\n",
        "Let's check with our function to find the coefficients"
      ],
      "metadata": {
        "id": "Q_kBE4AwW9Nq"
      }
    },
    {
      "cell_type": "code",
      "source": [
        "print(to_base_n(111,2))"
      ],
      "metadata": {
        "colab": {
          "base_uri": "https://localhost:8080/"
        },
        "id": "H8a85DvIZXYG",
        "outputId": "d7926e87-ed5c-4bb5-86e5-52d2cd44848e"
      },
      "execution_count": 19,
      "outputs": [
        {
          "output_type": "stream",
          "name": "stdout",
          "text": [
            "[1, 1, 1, 1, 0, 1, 1]\n"
          ]
        }
      ]
    },
    {
      "cell_type": "markdown",
      "source": [
        "$111 = 1 * 2^6+1*2^5+0*2^4+1*2^3+1*2^2+1*2^1+1*2^0$\n",
        "\n",
        "So 111 in binary is:  1101111\n",
        "\n",
        "Python can also do binary conversions on it's own too."
      ],
      "metadata": {
        "id": "joATRT3gZ1Wp"
      }
    },
    {
      "cell_type": "code",
      "source": [
        "print(\"111 in binary: \"+bin(111))"
      ],
      "metadata": {
        "colab": {
          "base_uri": "https://localhost:8080/"
        },
        "id": "H3GuxpwTZ8Hq",
        "outputId": "72b07473-8382-4421-8108-9e7473c7ed08"
      },
      "execution_count": 17,
      "outputs": [
        {
          "output_type": "stream",
          "name": "stdout",
          "text": [
            "111 in binary: 0b1101111\n"
          ]
        }
      ]
    },
    {
      "cell_type": "markdown",
      "source": [
        "\n",
        "Here are some example of arithmetic of binary numbers"
      ],
      "metadata": {
        "id": "utcWZaRWh1tj"
      }
    },
    {
      "cell_type": "code",
      "source": [
        "a = 55\n",
        "b = 72\n",
        "c = 33\n",
        "\n",
        "print(\"a to binary:\"+bin(a)+\"\\n\"+\"b to binary:\"+bin(b)+\"\\n\"+\"c to binary:\"+bin(c)+\"\\n\")\n",
        "\n",
        "x = bin(a)+bin(b)\n",
        "y = bin(a*b)\n",
        "z = bin(c*b)\n",
        "\n",
        "print(\"0b110111+0b1001000=\"+x)\n",
        "print(\"0b100001*0b1001000=\"+z)\n",
        "print(\"0b1001000*0b110111=\"+y)"
      ],
      "metadata": {
        "colab": {
          "base_uri": "https://localhost:8080/"
        },
        "id": "-ByWYy6Tiogq",
        "outputId": "9c28f008-c802-44d0-db35-bea9c587d4cd"
      },
      "execution_count": 27,
      "outputs": [
        {
          "output_type": "stream",
          "name": "stdout",
          "text": [
            "a to binary:0b110111\n",
            "b to binary:0b1001000\n",
            "c to binary:0b100001\n",
            "\n",
            "0b110111+0b1001000=0b1101110b1001000\n",
            "0b100001*0b1001000=0b100101001000\n",
            "0b1001000*0b110111=0b111101111000\n"
          ]
        }
      ]
    },
    {
      "cell_type": "markdown",
      "source": [
        "##**Floating Point numbers**"
      ],
      "metadata": {
        "id": "T3zn3IqZd-f7"
      }
    },
    {
      "cell_type": "code",
      "source": [
        "import sys\n",
        "sys.float_info"
      ],
      "metadata": {
        "colab": {
          "base_uri": "https://localhost:8080/"
        },
        "id": "PvhPyPDieHwq",
        "outputId": "66b90ca9-9249-43a5-9156-e5a41d8b24af"
      },
      "execution_count": 28,
      "outputs": [
        {
          "output_type": "execute_result",
          "data": {
            "text/plain": [
              "sys.float_info(max=1.7976931348623157e+308, max_exp=1024, max_10_exp=308, min=2.2250738585072014e-308, min_exp=-1021, min_10_exp=-307, dig=15, mant_dig=53, epsilon=2.220446049250313e-16, radix=2, rounds=1)"
            ]
          },
          "metadata": {},
          "execution_count": 28
        }
      ]
    },
    {
      "cell_type": "markdown",
      "source": [
        "Floating point numbers need to be represented in three parts: sign, exponent, and fraction. Each part has bits allocated to it.\n",
        "\n",
        "This means there is are numbers not in the bounds of memory on a computer, so certain numbers will either *overflow* or *underflow*"
      ],
      "metadata": {
        "id": "8JoPhQvgeGAE"
      }
    },
    {
      "cell_type": "code",
      "source": [
        "maxnum = 1.7976931348623157*(10**308)\n",
        "minnum = 2.2250738585072014*(10**-308)\n",
        "print(\"Max supported number: \"+ str(maxnum))\n",
        "print(\"Adding one to the max number won't register: \"+str(1+maxnum))\n",
        "print(\"Multiplying by two, will overflow it: \"+str(2*maxnum))\n",
        "print(\"\\n\")\n",
        "print(\"Minimum supported number: \"+ str(minnum))\n",
        "print(\"Integer division by two, will overflow it: \"+str(minnum//2))"
      ],
      "metadata": {
        "colab": {
          "base_uri": "https://localhost:8080/"
        },
        "id": "fIY6KNIXmPpc",
        "outputId": "4cf09c02-a0be-434c-ced0-f06f4de0d866"
      },
      "execution_count": 62,
      "outputs": [
        {
          "output_type": "stream",
          "name": "stdout",
          "text": [
            "Max supported number: 1.7976931348623157e+308\n",
            "Adding one to the max number won't register: 1.7976931348623157e+308\n",
            "Multiplying by two, will overflow it: inf\n",
            "\n",
            "\n",
            "Minimum supported number: 2.2250738585072014e-308\n",
            "Integer division by two, will overflow it: 0.0\n"
          ]
        }
      ]
    },
    {
      "cell_type": "markdown",
      "source": [
        "This also means there are gaps between the floating point number.\n",
        "\n"
      ],
      "metadata": {
        "id": "CFE1UIzCo4Ut"
      }
    },
    {
      "cell_type": "code",
      "source": [
        "print(\"Here is the spacing between the number 111.3: \"+str(numpy.spacing(111.3)))\n",
        "\n",
        "print(\"Adding 1/3 of the space to 111.3 yeilds: \"+str(111.3 + (numpy.spacing(111.3)/3)))"
      ],
      "metadata": {
        "colab": {
          "base_uri": "https://localhost:8080/"
        },
        "id": "JJPOAOlRwFJQ",
        "outputId": "749a6f7b-71dd-4b74-fb53-44ed1e034200"
      },
      "execution_count": 70,
      "outputs": [
        {
          "output_type": "stream",
          "name": "stdout",
          "text": [
            "Here is the spacing between the number 111.3: 1.4210854715202004e-14\n",
            "Adding 1/3 of the space to 111.3 yeilds: 111.3\n"
          ]
        }
      ]
    },
    {
      "cell_type": "markdown",
      "source": [
        "##**Round off errors**\n",
        "\n",
        "These occur whenthe numerical mehtod of calculation differs from the arithmetic computed by a computer. This happens because floating points cannot be represented exactly by a number\n"
      ],
      "metadata": {
        "id": "VhRaMsh8w2LW"
      }
    },
    {
      "cell_type": "code",
      "source": [
        "print(3.14-3.00005)"
      ],
      "metadata": {
        "colab": {
          "base_uri": "https://localhost:8080/"
        },
        "id": "C-Que-SYyXue",
        "outputId": "03dbea49-61f7-49d1-d1e5-687b7a1bd82a"
      },
      "execution_count": 71,
      "outputs": [
        {
          "output_type": "stream",
          "name": "stdout",
          "text": [
            "0.13995000000000024\n"
          ]
        }
      ]
    },
    {
      "cell_type": "markdown",
      "source": [
        "The numerical method yeilds: $3.14-3.00005=0.13995$\n",
        "\n",
        "\n",
        "As we can see this is not the value python gives\n",
        "\n",
        "We can use the round function to get better results."
      ],
      "metadata": {
        "id": "GMk9BDp_ymWx"
      }
    },
    {
      "cell_type": "code",
      "source": [
        "round(3.14-3.00005,5)"
      ],
      "metadata": {
        "colab": {
          "base_uri": "https://localhost:8080/"
        },
        "id": "XRcfNHnRzS3p",
        "outputId": "f9841afe-b8e3-4185-a96c-ea8769619bc3"
      },
      "execution_count": 72,
      "outputs": [
        {
          "output_type": "execute_result",
          "data": {
            "text/plain": [
              "0.13995"
            ]
          },
          "metadata": {},
          "execution_count": 72
        }
      ]
    },
    {
      "cell_type": "markdown",
      "source": [
        "Round off errors can accumulate we will add 1/3 and then subtract 1/3 from three, a fixed amount of times to see the error acumulated with each itteration. The actual value should be 3, as we know."
      ],
      "metadata": {
        "id": "egM-k3amz4E6"
      }
    },
    {
      "cell_type": "code",
      "source": [
        "def add_and_subtract(iterations):\n",
        "    result = 3\n",
        "\n",
        "    for i in range(iterations):\n",
        "        result += 2/3\n",
        "\n",
        "    for i in range(iterations):\n",
        "        result -= 2/3\n",
        "    return result\n",
        "\n",
        "print(\"10 times itterated: \"+str(add_and_subtract(10)))\n",
        "print(\"100 times itterated: \"+str(add_and_subtract(100)))\n",
        "print(\"1000 times itterated: \"+str(add_and_subtract(1000)))"
      ],
      "metadata": {
        "colab": {
          "base_uri": "https://localhost:8080/"
        },
        "id": "KjZYGgtp0Osk",
        "outputId": "343efdfb-a596-4b84-bb82-7709d01af599"
      },
      "execution_count": 75,
      "outputs": [
        {
          "output_type": "stream",
          "name": "stdout",
          "text": [
            "10 times itterated: 2.999999999999999\n",
            "100 times itterated: 3.000000000000001\n",
            "1000 times itterated: 3.000000000000015\n"
          ]
        }
      ]
    }
  ]
}