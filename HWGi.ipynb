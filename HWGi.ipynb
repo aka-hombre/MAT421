{
  "nbformat": 4,
  "nbformat_minor": 0,
  "metadata": {
    "colab": {
      "provenance": [],
      "authorship_tag": "ABX9TyPnJKgYihObiXoMXFLyDfUs",
      "include_colab_link": true
    },
    "kernelspec": {
      "name": "python3",
      "display_name": "Python 3"
    },
    "language_info": {
      "name": "python"
    }
  },
  "cells": [
    {
      "cell_type": "markdown",
      "metadata": {
        "id": "view-in-github",
        "colab_type": "text"
      },
      "source": [
        "<a href=\"https://colab.research.google.com/github/aka-hombre/MAT421/blob/main/HWGi.ipynb\" target=\"_parent\"><img src=\"https://colab.research.google.com/assets/colab-badge.svg\" alt=\"Open In Colab\"/></a>"
      ]
    },
    {
      "cell_type": "markdown",
      "source": [
        "#**HW Module G: Section 21.1, 21.2, 21.3**#\n",
        "\n",
        "##21.1: Numerical Integration##\n",
        "\n",
        "Given some function, $f(x)$ we want to approximate a the integral over the interval $[a,b]$. We will think of the interval as being split into a discrete grid, $x$, consisting of $n-1$ points, with spacing $h=\\frac{b-a}{n}$. Each point in the interval will be denoted $x$ by $x_i$, where $x_o =a$ and $x_n = b$.\n",
        "\n",
        "This also assumes $∃f(x_i), ∀ x_i∈[x_o, x_n]$, where $[x_o, x_i]$ is the subinterval of $f(x)$."
      ],
      "metadata": {
        "id": "swlRbPXosjqP"
      }
    },
    {
      "cell_type": "markdown",
      "source": [
        "##21.2: Riemanns Integral##\n",
        "\n",
        "The simplest way of approximating an integral is, summing the areas of rectangles formed by subintervals, where the width of the rectangles is, $x_{i+1} -x_i = h$ and the height is $f(x)$ for some subinterval. You can choose the right endpoint $x_i$ or the left endpoint $x_{i+1}$ to start from. This is the Reimen Integral defined as:\n",
        "\n",
        "\\begin{align*}\n",
        "\\int_a^b f(x)dx \\approx \\sum_{i=0}^{n-1} hf(x_i)\\hspace{1cm}\\text{or}&& \\int_a^b f(x)dx \\approx \\sum_{i=1}^n hf(x_i)\n",
        "\\end{align*}\n",
        "\n",
        "depending on whether the left or right endpoint is used. The **midpoint rule** says:\n",
        "\n",
        "\\begin{align*}\n",
        "\\int_a^b f(x)dx \\approx \\sum_{i=0}^{n-1}hf(y_i),\\hspace{1cm} y_i =\\frac{x_{i+1}-x_i}{2}\n",
        "\\end{align*}\n",
        "\n",
        "We will use python to display each technique, by approximating $f(x)=\\sin^2(x)$ on the interval $[0,2\\pi]$, with 25 spaced gridpoints."
      ],
      "metadata": {
        "id": "6F8baUDL6xAe"
      }
    },
    {
      "cell_type": "code",
      "source": [
        "import numpy as np\n",
        "\n",
        "a = 0\n",
        "b = 2*np.pi\n",
        "n = 25\n",
        "h = (b - a) / (n - 1)\n",
        "x = np.linspace(a, b, n)\n",
        "f = np.sin(x)**2\n",
        "actual = np.pi\n",
        "\n",
        "I_riemannL = h * sum(f[:n-1])\n",
        "err_riemannL = actual - I_riemannL\n",
        "\n",
        "I_riemannR = h * sum(f[1::])\n",
        "err_riemannR = actual - I_riemannR\n",
        "\n",
        "I_mid = h * sum(np.sin((x[:n-1] \\\n",
        "        + x[1:])/2)**2)\n",
        "err_mid = actual - I_mid\n",
        "\n",
        "print(\"Left reiman approx: \"+str(I_riemannL))\n",
        "print(\"Error: \"+str(err_riemannL))\n",
        "\n",
        "print(\"\\nRight reiman approx: \"+str(I_riemannR))\n",
        "print(\"Error: \"+str(err_riemannR))\n",
        "\n",
        "print(\"\\nMidpoint  approx: \"+str(I_mid))\n",
        "print(\"Error: \"+str(err_mid))"
      ],
      "metadata": {
        "colab": {
          "base_uri": "https://localhost:8080/"
        },
        "id": "OeCYlGXS_Hn0",
        "outputId": "791ff834-bff8-40e5-9dd9-32d2e0de1986"
      },
      "execution_count": 4,
      "outputs": [
        {
          "output_type": "stream",
          "name": "stdout",
          "text": [
            "Left reiman approx: 3.1415926535897922\n",
            "Error: 8.881784197001252e-16\n",
            "\n",
            "Right reiman approx: 3.1415926535897922\n",
            "Error: 8.881784197001252e-16\n",
            "\n",
            "Midpoint  approx: 3.1415926535897936\n",
            "Error: -4.440892098500626e-16\n"
          ]
        }
      ]
    },
    {
      "cell_type": "markdown",
      "source": [
        "##21.3: Trapazoid Rule##\n",
        "\n",
        "The trapazoid rule sums the areas of trapazoids to approximate the the integral value. Each trapazoid has corners at $(𝑥_𝑖,0),(𝑥_{𝑖+1},0),(𝑥_𝑖,𝑓(𝑥_𝑖)),$ and $(𝑥_{𝑖+1},𝑓(𝑥_{𝑖+1}))$, where $h =\\frac{f(x_i)-f(x_{i+1})}{2}$. In other words:\n",
        "\\begin{align*}\n",
        "\\int_a^b f(x)dx \\approx \\sum_{i=1}^{n-1} h\\frac{f(x_i)+f(x_{i+1})}{2}\n",
        "\\end{align*}\n",
        "\n",
        "We will also approximate $f(x)=\\sin^2(x)$ on the interval $[0,2\\pi]$, with 25 spaced gridpoints."
      ],
      "metadata": {
        "id": "hyWbJVXnBPv3"
      }
    },
    {
      "cell_type": "code",
      "source": [
        "import numpy as np\n",
        "\n",
        "a = 0\n",
        "b = 2*np.pi\n",
        "n = 25\n",
        "h = (b - a) / (n - 1)\n",
        "x = np.linspace(a, b, n)\n",
        "f = np.sin(x)**2\n",
        "actual = np.pi\n",
        "\n",
        "I_trap = (h/2)*(f[0] + \\\n",
        "          2 * sum(f[1:n-1]) + f[n-1])\n",
        "err_trap = actual - I_trap\n",
        "\n",
        "\n",
        "print(\"Trapazoid approx: \"+ str(I_trap))\n",
        "print(\"Error: \"+str(err_trap))"
      ],
      "metadata": {
        "colab": {
          "base_uri": "https://localhost:8080/"
        },
        "id": "6lPVjDCMDKL2",
        "outputId": "d0b8fd99-12bd-4ba4-b1e4-f11672249e18"
      },
      "execution_count": 5,
      "outputs": [
        {
          "output_type": "stream",
          "name": "stdout",
          "text": [
            "Trapazoid approx: 3.1415926535897922\n",
            "Error: 8.881784197001252e-16\n"
          ]
        }
      ]
    }
  ]
}